{
 "cells": [
  {
   "cell_type": "markdown",
   "metadata": {},
   "source": [
    "# Part I. ETL Pipeline for Pre-Processing the Files"
   ]
  },
  {
   "cell_type": "markdown",
   "metadata": {},
   "source": [
    "## PLEASE RUN THE FOLLOWING CODE FOR PRE-PROCESSING THE FILES"
   ]
  },
  {
   "cell_type": "markdown",
   "metadata": {},
   "source": [
    "#### Import Python packages "
   ]
  },
  {
   "cell_type": "code",
   "execution_count": 1,
   "metadata": {},
   "outputs": [],
   "source": [
    "# Import Python packages \n",
    "import pandas as pd\n",
    "import cassandra\n",
    "import re\n",
    "import os\n",
    "import glob\n",
    "import numpy as np\n",
    "import json\n",
    "import csv"
   ]
  },
  {
   "cell_type": "markdown",
   "metadata": {},
   "source": [
    "#### Creating list of filepaths to process original event csv data files"
   ]
  },
  {
   "cell_type": "code",
   "execution_count": 2,
   "metadata": {},
   "outputs": [
    {
     "name": "stdout",
     "output_type": "stream",
     "text": [
      "/home/jovyan/work\n"
     ]
    }
   ],
   "source": [
    "# checking your current working directory\n",
    "print(os.getcwd())\n",
    "\n",
    "# Get your current folder and subfolder event data\n",
    "filepath = os.getcwd() + '/event_data'\n",
    "\n",
    "# Create a for loop to create a list of files and collect each filepath\n",
    "for root, dirs, files in os.walk(filepath):\n",
    "    \n",
    "# join the file path and roots with the subdirectories using glob\n",
    "    file_path_list = glob.glob(os.path.join(root,'*'))\n",
    "    #print(file_path_list)"
   ]
  },
  {
   "cell_type": "markdown",
   "metadata": {},
   "source": [
    "#### Processing the files to create the data file csv that will be used for Apache Casssandra tables"
   ]
  },
  {
   "cell_type": "code",
   "execution_count": 3,
   "metadata": {},
   "outputs": [],
   "source": [
    "# initiating an empty list of rows that will be generated from each file\n",
    "full_data_rows_list = [] \n",
    "    \n",
    "# for every filepath in the file path list \n",
    "for f in file_path_list:\n",
    "\n",
    "# reading csv file \n",
    "    with open(f, 'r', encoding = 'utf8', newline='') as csvfile: \n",
    "        # creating a csv reader object \n",
    "        csvreader = csv.reader(csvfile) \n",
    "        next(csvreader)\n",
    "        \n",
    " # extracting each data row one by one and append it        \n",
    "        for line in csvreader:\n",
    "            #print(line)\n",
    "            full_data_rows_list.append(line) \n",
    "            \n",
    "# uncomment the code below if you would like to get total number of rows \n",
    "#print(len(full_data_rows_list))\n",
    "# uncomment the code below if you would like to check to see what the list of event data rows will look like\n",
    "#print(full_data_rows_list)\n",
    "\n",
    "# creating a smaller event data csv file called event_datafile_full csv that will be used to insert data into the \\\n",
    "# Apache Cassandra tables\n",
    "csv.register_dialect('myDialect', quoting=csv.QUOTE_ALL, skipinitialspace=True)\n",
    "\n",
    "with open('event_datafile_new.csv', 'w', encoding = 'utf8', newline='') as f:\n",
    "    writer = csv.writer(f, dialect='myDialect')\n",
    "    writer.writerow(['artist','firstName','gender','itemInSession','lastName','length',\\\n",
    "                'level','location','sessionId','song','userId'])\n",
    "    for row in full_data_rows_list:\n",
    "        if (row[0] == ''):\n",
    "            continue\n",
    "        writer.writerow((row[0], row[2], row[3], row[4], row[5], row[6], row[7], row[8], row[12], row[13], row[16]))\n"
   ]
  },
  {
   "cell_type": "code",
   "execution_count": 4,
   "metadata": {},
   "outputs": [
    {
     "name": "stdout",
     "output_type": "stream",
     "text": [
      "6821\n"
     ]
    }
   ],
   "source": [
    "# check the number of rows in your csv file\n",
    "with open('event_datafile_new.csv', 'r', encoding = 'utf8') as f:\n",
    "    print(sum(1 for line in f))"
   ]
  },
  {
   "cell_type": "markdown",
   "metadata": {},
   "source": [
    "# Part II. Complete the Apache Cassandra coding portion of your project. \n",
    "\n",
    "## Now you are ready to work with the CSV file titled <font color=red>event_datafile_new.csv</font>, located within the Workspace directory.  The event_datafile_new.csv contains the following columns: \n",
    "- artist \n",
    "- firstName of user\n",
    "- gender of user\n",
    "- item number in session\n",
    "- last name of user\n",
    "- length of the song\n",
    "- level (paid or free song)\n",
    "- location of the user\n",
    "- sessionId\n",
    "- song title\n",
    "- userId\n",
    "\n",
    "The image below is a screenshot of what the denormalized data should appear like in the <font color=red>**event_datafile_new.csv**</font> after the code above is run:<br>\n",
    "\n",
    "<img src=\"images/image_event_datafile_new.jpg\">"
   ]
  },
  {
   "cell_type": "markdown",
   "metadata": {},
   "source": [
    "## Begin writing your Apache Cassandra code in the cells below"
   ]
  },
  {
   "cell_type": "markdown",
   "metadata": {},
   "source": [
    "#### Creating a Cluster"
   ]
  },
  {
   "cell_type": "code",
   "execution_count": 5,
   "metadata": {},
   "outputs": [],
   "source": [
    "# This should make a connection to a Cassandra instance your local machine \n",
    "# (127.0.0.1)\n",
    "\n",
    "from cassandra.cluster import Cluster\n",
    "cluster = Cluster(['193.18.0.2'])\n",
    "\n",
    "# To establish connection and begin executing queries, need a session\n",
    "session = cluster.connect()"
   ]
  },
  {
   "cell_type": "markdown",
   "metadata": {},
   "source": [
    "#### Create Keyspace"
   ]
  },
  {
   "cell_type": "code",
   "execution_count": 6,
   "metadata": {},
   "outputs": [],
   "source": [
    "# TO-DO: Create a Keyspace \n",
    "try:\n",
    "    session.execute(\n",
    "    \"\"\"\n",
    "    CREATE KEYSPACE IF NOT EXISTS my_keyspace \n",
    "    WITH REPLICATION = { 'class' : 'SimpleStrategy', 'replication_factor' : 3 }\n",
    "    AND DURABLE_WRITES = true;\n",
    "    \"\"\"\n",
    "    )\n",
    "except Exception as e: \n",
    "    print('error: ',e)"
   ]
  },
  {
   "cell_type": "markdown",
   "metadata": {},
   "source": [
    "#### Set Keyspace"
   ]
  },
  {
   "cell_type": "code",
   "execution_count": 7,
   "metadata": {},
   "outputs": [],
   "source": [
    "# TO-DO: Set KEYSPACE to the keyspace specified above\n",
    "try:\n",
    "    session.execute(\"USE my_keyspace;\")\n",
    "except Exception as e: \n",
    "    print('error: ',e)"
   ]
  },
  {
   "cell_type": "markdown",
   "metadata": {},
   "source": [
    "### Now we need to create tables to run the following queries. Remember, with Apache Cassandra you model the database tables on the queries you want to run."
   ]
  },
  {
   "cell_type": "markdown",
   "metadata": {},
   "source": [
    "## Create queries to ask the following three questions of the data"
   ]
  },
  {
   "cell_type": "markdown",
   "metadata": {},
   "source": [
    "### 1. Give me the artist, song title and song's length in the music app history that was heard during  sessionId = 338, and itemInSession  = 4"
   ]
  },
  {
   "cell_type": "code",
   "execution_count": 8,
   "metadata": {},
   "outputs": [],
   "source": [
    "try:\n",
    "    session.execute(\"DROP TABLE IF EXISTS song_by_sessionid_iteminsession;\")\n",
    "    session.execute(\n",
    "    \"\"\"\n",
    "    CREATE TABLE song_by_sessionid_iteminsession(\n",
    "    sessionId INT,\n",
    "    itemInSession INT,\n",
    "    artist VARCHAR,\n",
    "    song VARCHAR,\n",
    "    length DOUBLE,\n",
    "    PRIMARY KEY (sessionId, itemInSession)\n",
    "    );\n",
    "    \"\"\"\n",
    "    )\n",
    "except Exception as e: \n",
    "    print('error: ',e)"
   ]
  },
  {
   "cell_type": "code",
   "execution_count": 9,
   "metadata": {
    "editable": true,
    "slideshow": {
     "slide_type": ""
    },
    "tags": []
   },
   "outputs": [],
   "source": [
    "file = 'event_datafile_new.csv'\n",
    "\n",
    "df = pd.read_csv(file)\n",
    "\n",
    "for row in df.itertuples():\n",
    "    query = \"\"\"\n",
    "    INSERT INTO song_by_sessionid_iteminsession(\n",
    "    sessionId,\n",
    "    itemInSession,\n",
    "    artist,\n",
    "    song,\n",
    "    length\n",
    "    )\n",
    "    VALUES(%s,%s,%s,%s,%s)\n",
    "    \"\"\"\n",
    "    session.execute(\n",
    "        query, \n",
    "        (\n",
    "            row.sessionId,\n",
    "            row.itemInSession,\n",
    "            row.artist,\n",
    "            row.song,\n",
    "            row.length\n",
    "        ))"
   ]
  },
  {
   "cell_type": "code",
   "execution_count": 10,
   "metadata": {
    "scrolled": true
   },
   "outputs": [
    {
     "data": {
      "text/html": [
       "<div>\n",
       "<style scoped>\n",
       "    .dataframe tbody tr th:only-of-type {\n",
       "        vertical-align: middle;\n",
       "    }\n",
       "\n",
       "    .dataframe tbody tr th {\n",
       "        vertical-align: top;\n",
       "    }\n",
       "\n",
       "    .dataframe thead th {\n",
       "        text-align: right;\n",
       "    }\n",
       "</style>\n",
       "<table border=\"1\" class=\"dataframe\">\n",
       "  <thead>\n",
       "    <tr style=\"text-align: right;\">\n",
       "      <th></th>\n",
       "      <th>artist</th>\n",
       "      <th>song</th>\n",
       "      <th>length</th>\n",
       "    </tr>\n",
       "  </thead>\n",
       "  <tbody>\n",
       "    <tr>\n",
       "      <th>0</th>\n",
       "      <td>Faithless</td>\n",
       "      <td>Music Matters (Mark Knight Dub)</td>\n",
       "      <td>495.3073</td>\n",
       "    </tr>\n",
       "  </tbody>\n",
       "</table>\n",
       "</div>"
      ],
      "text/plain": [
       "      artist                             song    length\n",
       "0  Faithless  Music Matters (Mark Knight Dub)  495.3073"
      ]
     },
     "execution_count": 10,
     "metadata": {},
     "output_type": "execute_result"
    }
   ],
   "source": [
    "try:\n",
    "    rows = session.execute(\n",
    "    \"\"\"\n",
    "    select\n",
    "        artist,\n",
    "        song,\n",
    "        length\n",
    "    from song_by_sessionid_iteminsession\n",
    "    where sessionId = 338\n",
    "    AND itemInSession = 4\n",
    "    \"\"\"\n",
    "    )\n",
    "except Exception as e: \n",
    "    print('error: ',e)\n",
    "rows_df = pd.DataFrame(rows)\n",
    "rows_df"
   ]
  },
  {
   "cell_type": "markdown",
   "metadata": {},
   "source": [
    "This query retrieves the `artist`, `song` title, and `length` of a specific track \r\n",
    "from the table `song_by_sessionid_iteminsession`. The `WHERE` clause filters \r\n",
    "the data to return the song that was played during `sessionId` 338 and \r\n",
    "at the 4th item in that session. \r\n",
    "\r\n",
    "The query result shows that the song **\"Music Matters (Mark Knight Dub)\"** by **Faithless**, \r\n",
    "with a length of **495.3073 seconds**, was played in this session at the specified postion.\r\n"
   ]
  },
  {
   "cell_type": "markdown",
   "metadata": {},
   "source": [
    "### 2. Give me only the following: name of artist, song (sorted by itemInSession) and user (first and last name) for userid = 10, sessionid = 182"
   ]
  },
  {
   "cell_type": "code",
   "execution_count": 11,
   "metadata": {},
   "outputs": [],
   "source": [
    "try:\n",
    "    session.execute(\"DROP TABLE IF EXISTS song_by_userid_sessionid;\")\n",
    "    session.execute(\n",
    "    \"\"\"\n",
    "    CREATE TABLE song_by_userid_sessionid(\n",
    "    userId INT,\n",
    "    sessionId INT,\n",
    "    itemInSession INT,\n",
    "    artist VARCHAR,\n",
    "    song VARCHAR,\n",
    "    firstName VARCHAR,\n",
    "    lastName VARCHAR,\n",
    "    PRIMARY KEY ((userId,sessionId), itemInSession)\n",
    "    );\n",
    "    \"\"\"\n",
    "    )\n",
    "except Exception as e: \n",
    "    print('error: ',e)"
   ]
  },
  {
   "cell_type": "code",
   "execution_count": 12,
   "metadata": {},
   "outputs": [],
   "source": [
    "file = 'event_datafile_new.csv'\n",
    "\n",
    "df = pd.read_csv(file)\n",
    "\n",
    "for row in df.itertuples():\n",
    "    query = \"\"\"\n",
    "    INSERT INTO song_by_userid_sessionid(\n",
    "    userId,\n",
    "    sessionId,\n",
    "    itemInSession,\n",
    "    artist,\n",
    "    song,\n",
    "    firstName,\n",
    "    lastName\n",
    "    )\n",
    "    VALUES(%s,%s,%s,%s,%s,%s,%s)\n",
    "    \"\"\"\n",
    "    session.execute(\n",
    "        query, \n",
    "        (\n",
    "            row.userId,\n",
    "            row.sessionId,\n",
    "            row.itemInSession,\n",
    "            row.artist,\n",
    "            row.song,\n",
    "            row.firstName,\n",
    "            row.lastName\n",
    "        ))           "
   ]
  },
  {
   "cell_type": "code",
   "execution_count": 13,
   "metadata": {},
   "outputs": [
    {
     "data": {
      "text/html": [
       "<div>\n",
       "<style scoped>\n",
       "    .dataframe tbody tr th:only-of-type {\n",
       "        vertical-align: middle;\n",
       "    }\n",
       "\n",
       "    .dataframe tbody tr th {\n",
       "        vertical-align: top;\n",
       "    }\n",
       "\n",
       "    .dataframe thead th {\n",
       "        text-align: right;\n",
       "    }\n",
       "</style>\n",
       "<table border=\"1\" class=\"dataframe\">\n",
       "  <thead>\n",
       "    <tr style=\"text-align: right;\">\n",
       "      <th></th>\n",
       "      <th>artist</th>\n",
       "      <th>song</th>\n",
       "      <th>firstname</th>\n",
       "      <th>lastname</th>\n",
       "    </tr>\n",
       "  </thead>\n",
       "  <tbody>\n",
       "    <tr>\n",
       "      <th>0</th>\n",
       "      <td>Down To The Bone</td>\n",
       "      <td>Keep On Keepin' On</td>\n",
       "      <td>Sylvie</td>\n",
       "      <td>Cruz</td>\n",
       "    </tr>\n",
       "    <tr>\n",
       "      <th>1</th>\n",
       "      <td>Three Drives</td>\n",
       "      <td>Greece 2000</td>\n",
       "      <td>Sylvie</td>\n",
       "      <td>Cruz</td>\n",
       "    </tr>\n",
       "    <tr>\n",
       "      <th>2</th>\n",
       "      <td>Sebastien Tellier</td>\n",
       "      <td>Kilometer</td>\n",
       "      <td>Sylvie</td>\n",
       "      <td>Cruz</td>\n",
       "    </tr>\n",
       "    <tr>\n",
       "      <th>3</th>\n",
       "      <td>Lonnie Gordon</td>\n",
       "      <td>Catch You Baby (Steve Pitron &amp; Max Sanna Radio...</td>\n",
       "      <td>Sylvie</td>\n",
       "      <td>Cruz</td>\n",
       "    </tr>\n",
       "  </tbody>\n",
       "</table>\n",
       "</div>"
      ],
      "text/plain": [
       "              artist                                               song  \\\n",
       "0   Down To The Bone                                 Keep On Keepin' On   \n",
       "1       Three Drives                                        Greece 2000   \n",
       "2  Sebastien Tellier                                          Kilometer   \n",
       "3      Lonnie Gordon  Catch You Baby (Steve Pitron & Max Sanna Radio...   \n",
       "\n",
       "  firstname lastname  \n",
       "0    Sylvie     Cruz  \n",
       "1    Sylvie     Cruz  \n",
       "2    Sylvie     Cruz  \n",
       "3    Sylvie     Cruz  "
      ]
     },
     "execution_count": 13,
     "metadata": {},
     "output_type": "execute_result"
    }
   ],
   "source": [
    "try:\n",
    "    rows = session.execute(\n",
    "    \"\"\"\n",
    "    select\n",
    "        artist,\n",
    "        song,\n",
    "        firstName,\n",
    "        lastName\n",
    "    from song_by_userid_sessionid\n",
    "    where userId = 10 \n",
    "    and sessionId = 182\n",
    "    order by itemInSession\n",
    "    \"\"\"\n",
    "    )\n",
    "except Exception as e: \n",
    "    print('error: ',e)\n",
    "rows_df = pd.DataFrame(rows)\n",
    "rows_df"
   ]
  },
  {
   "cell_type": "markdown",
   "metadata": {},
   "source": [
    "This query selects the `artist`, `song`, `firstName`, and `lastName` columns \r\n",
    "from the table `song_by_userid_sessionid`. The `WHERE` clause filters the data \r\n",
    "to retrieve all songs played by the user with `userId` 10 during `sessionId` 182. \r\n",
    "The results are ordered by `itemInSession`, indicating the sequence in which the songs were played during the session.\r\n",
    "\r\n",
    "The query result shows that the user **Sylvie Cruz** listened to the following songs in session 182:\r\n",
    "1. **\"Keep On Keepin' On\"** by **Down To The Bone**\r\n",
    "2. **\"Greece 2000\"** by **Three Drives**\r\n",
    "3. **\"Kilometer\"** by **Sebastien Tellier**\r\n",
    "4. **\"Catch You Baby (Steve Pitron & Max Sanna Radio Edit)\"** by **LonnieGordon**\r\n"
   ]
  },
  {
   "cell_type": "markdown",
   "metadata": {},
   "source": [
    "### 3. Give me every user name (first and last) in my music app history who listened to the song 'All Hands Against His Own'"
   ]
  },
  {
   "cell_type": "code",
   "execution_count": 14,
   "metadata": {},
   "outputs": [],
   "source": [
    "try:\n",
    "    session.execute(\"DROP TABLE IF EXISTS user_by_song;\")\n",
    "    session.execute(\n",
    "    \"\"\"\n",
    "    CREATE TABLE user_by_song(\n",
    "    userId INT,\n",
    "    song VARCHAR,\n",
    "    firstName VARCHAR,\n",
    "    lastName VARCHAR,\n",
    "    PRIMARY KEY (song,userId)\n",
    "    );\n",
    "    \"\"\"\n",
    "    )\n",
    "except Exception as e: \n",
    "    print('error: ',e)"
   ]
  },
  {
   "cell_type": "code",
   "execution_count": 15,
   "metadata": {},
   "outputs": [],
   "source": [
    "file = 'event_datafile_new.csv'\n",
    "\n",
    "df = pd.read_csv(file)\n",
    "\n",
    "for row in df.itertuples():\n",
    "    query = \"\"\"\n",
    "    INSERT INTO user_by_song(\n",
    "    userId,\n",
    "    song,\n",
    "    firstName,\n",
    "    lastName\n",
    "    )\n",
    "    VALUES(%s,%s,%s,%s)\n",
    "    \"\"\"\n",
    "    session.execute(\n",
    "        query, \n",
    "        (\n",
    "            row.userId,\n",
    "            row.song,\n",
    "            row.firstName,\n",
    "            row.lastName\n",
    "        ))"
   ]
  },
  {
   "cell_type": "code",
   "execution_count": 16,
   "metadata": {},
   "outputs": [
    {
     "data": {
      "text/html": [
       "<div>\n",
       "<style scoped>\n",
       "    .dataframe tbody tr th:only-of-type {\n",
       "        vertical-align: middle;\n",
       "    }\n",
       "\n",
       "    .dataframe tbody tr th {\n",
       "        vertical-align: top;\n",
       "    }\n",
       "\n",
       "    .dataframe thead th {\n",
       "        text-align: right;\n",
       "    }\n",
       "</style>\n",
       "<table border=\"1\" class=\"dataframe\">\n",
       "  <thead>\n",
       "    <tr style=\"text-align: right;\">\n",
       "      <th></th>\n",
       "      <th>firstname</th>\n",
       "      <th>lastname</th>\n",
       "    </tr>\n",
       "  </thead>\n",
       "  <tbody>\n",
       "    <tr>\n",
       "      <th>0</th>\n",
       "      <td>Jacqueline</td>\n",
       "      <td>Lynch</td>\n",
       "    </tr>\n",
       "    <tr>\n",
       "      <th>1</th>\n",
       "      <td>Tegan</td>\n",
       "      <td>Levine</td>\n",
       "    </tr>\n",
       "    <tr>\n",
       "      <th>2</th>\n",
       "      <td>Sara</td>\n",
       "      <td>Johnson</td>\n",
       "    </tr>\n",
       "  </tbody>\n",
       "</table>\n",
       "</div>"
      ],
      "text/plain": [
       "    firstname lastname\n",
       "0  Jacqueline    Lynch\n",
       "1       Tegan   Levine\n",
       "2        Sara  Johnson"
      ]
     },
     "execution_count": 16,
     "metadata": {},
     "output_type": "execute_result"
    }
   ],
   "source": [
    "try:\n",
    "    rows = session.execute(\n",
    "    \"\"\"\n",
    "    select\n",
    "        firstName,\n",
    "        lastName\n",
    "    from user_by_song\n",
    "    where song = 'All Hands Against His Own'\n",
    "    \"\"\"\n",
    "    )\n",
    "except Exception as e: \n",
    "    print('error: ',e)\n",
    "rows_df = pd.DataFrame(rows)\n",
    "rows_df"
   ]
  },
  {
   "cell_type": "markdown",
   "metadata": {},
   "source": [
    "This query selects the `firstName` and `lastName` of users from the table `user_by_song` \r\n",
    "who listened to the song titled **\"All Hands Against His Own\"**. The `WHERE` clause filters \r\n",
    "the data to return only those users who have played this specific song.\r\n",
    "\r\n",
    "The query result shows that the following users have listened to **\"All Hands Against His Own\"**:\r\n",
    "1. **Jacqueline Lynch**\r\n",
    "2. **Tegan Levine**\r\n",
    "3. **Sara Jonson**\r\n"
   ]
  },
  {
   "cell_type": "markdown",
   "metadata": {},
   "source": [
    "### Drop the tables before closing out the sessions"
   ]
  },
  {
   "cell_type": "code",
   "execution_count": 17,
   "metadata": {},
   "outputs": [],
   "source": [
    "## TO-DO: Drop the keyspace before closing out the sessions\n",
    "try:\n",
    "    session.execute(\"DROP KEYSPACE my_keyspace;\")\n",
    "except Exception as e: \n",
    "    print('error: ',e)"
   ]
  },
  {
   "cell_type": "markdown",
   "metadata": {},
   "source": [
    "### Close the session and cluster connection¶"
   ]
  },
  {
   "cell_type": "code",
   "execution_count": 18,
   "metadata": {},
   "outputs": [],
   "source": [
    "session.shutdown()\n",
    "cluster.shutdown()"
   ]
  }
 ],
 "metadata": {
  "kernelspec": {
   "display_name": "Python 3 (ipykernel)",
   "language": "python",
   "name": "python3"
  },
  "language_info": {
   "codemirror_mode": {
    "name": "ipython",
    "version": 3
   },
   "file_extension": ".py",
   "mimetype": "text/x-python",
   "name": "python",
   "nbconvert_exporter": "python",
   "pygments_lexer": "ipython3",
   "version": "3.11.6"
  }
 },
 "nbformat": 4,
 "nbformat_minor": 4
}
